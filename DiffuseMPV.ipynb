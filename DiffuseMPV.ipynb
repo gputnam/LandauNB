{
 "cells": [
  {
   "cell_type": "code",
   "execution_count": null,
   "metadata": {},
   "outputs": [],
   "source": [
    "import numpy as np\n",
    "import matplotlib.pyplot as plt\n",
    "import ROOT\n",
    "import landau\n",
    "from scipy.special import erf\n",
    "from scipy.integrate import quad\n",
    "import platform\n",
    "from multiprocessing import Pool\n",
    "from tqdm.notebook import tqdm\n",
    "print(platform.python_version())"
   ]
  },
  {
   "cell_type": "code",
   "execution_count": null,
   "metadata": {},
   "outputs": [],
   "source": [
    "dosave=False\n",
    "plt.rcParams.update({'font.size': 14})"
   ]
  },
  {
   "cell_type": "code",
   "execution_count": null,
   "metadata": {},
   "outputs": [],
   "source": [
    "# constants -- units MeV, cm, s\n",
    "# MeV * cm\n",
    "# hbarc = 1.973269804 * 1e-11\n",
    "# cm / s\n",
    "# c = 2.998 * 1e10\n",
    "\n",
    "# alpha = 1. / 137.\n",
    "Mmuon = 105.6\n",
    "Melec = 0.5110\n",
    "Relec = 2.817940 * 1e-13\n",
    "\n",
    "# energy scale [MeV]\n",
    "muonE = 1_000 # 140 + Mmuon\n",
    "# motion -- beta\n",
    "beta = np.sqrt(1 - (Mmuon * Mmuon) / (muonE * muonE))\n",
    "# motion -- gamma\n",
    "gamma = muonE / Mmuon\n",
    "# motion -- (gamma * beta)^2\n",
    "gammaB2 = gamma*gamma*beta*beta\n",
    "\n",
    "# electron ionization energy [MeV]\n",
    "I0 = 188.0 * 1e-6\n",
    "\n",
    "# maximum energy transfer [Mev]\n",
    "# maxE = 2 * Melec * gammaB2\n",
    "maxE = 2 * Melec * gammaB2 / \\\n",
    "    ( 1 + 2 * gamma * Melec / Mmuon + (Melec/Mmuon)**2)\n",
    "\n",
    "# get the density of argon \n",
    "# density -- g / mL\n",
    "LAr_density_gmL = 1.396\n",
    "# molar mass -- g / mol\n",
    "Ar_molar_mass = 39.9623\n",
    "# avogadro number\n",
    "mole = 6.0221409*1e23\n",
    "# charge number / atomic mass (Z / A)\n",
    "# 99.6% of LAr is Ar40\n",
    "Ar_ZA = 18. / Ar_molar_mass\n",
    "\n",
    "# electron number density (N / cm^3)\n",
    "density = Ar_ZA * mole * LAr_density_gmL\n",
    "\n",
    "# wirep (cm)\n",
    "wirep = 0.3\n",
    "\n",
    "# MeV cm^2 / mol\n",
    "K = 4*np.pi*mole*Relec**2*Melec # 0.307075\n",
    "\n",
    "# outputdir = \"/home/grayputnam/Work/Summer2020/July13BetheBlochBarkas/\"\n",
    "zeta = (K/2.)*Ar_ZA*(1./beta**2) * LAr_density_gmL / maxE\n",
    "\n",
    "def f_kappa(thickness):\n",
    "    return zeta * thickness\n",
    "\n",
    "mean_dEdx = LAr_density_gmL * K * Ar_ZA * (1 / (beta * beta)) * (\\\n",
    "        (1./2)*np.log( maxE*2 * gammaB2*Melec / (I0**2)) \\\n",
    "        - beta * beta)\n",
    "\n",
    "def f_mpv(thickness):\n",
    "    kappa = f_kappa(thickness)*maxE\n",
    "    j=0.200\n",
    "    return (kappa/thickness)*\\\n",
    "    (np.log(2 * Melec * gammaB2 / I0) + np.log(kappa/I0) + j - beta*beta)\n",
    "\n",
    "def smeared_dep(x0, w, sigma):\n",
    "    if sigma < 1e-4:\n",
    "        return 1*(np.abs(x0) < w/2)\n",
    "    return (1./2)*(erf((w/2+x0)/(np.sqrt(2)*sigma)) +\\\n",
    "                   erf((w/2-x0)/(np.sqrt(2)*sigma)))\n",
    "\n",
    "def f_thickness(sigma, a=wirep):\n",
    "    return a*np.exp(quad(lambda x: -smeared_dep(x, a, sigma) * np.log(smeared_dep(x, a, sigma))/a, \n",
    "                       -(a/2) - 5*sigma, (a/2) + 5*sigma)[0])\n",
    "\n",
    "Dtransverse = 5.85e-3 # cm^2/ms\n",
    "def smearing(driftT):\n",
    "    return np.sqrt(2*Dtransverse*driftT)"
   ]
  },
  {
   "cell_type": "code",
   "execution_count": null,
   "metadata": {},
   "outputs": [],
   "source": [
    "# ArgoNeuT\n",
    "f_mpv(0.4), f_mpv(f_thickness(smearing(0.295), 0.4))"
   ]
  },
  {
   "cell_type": "code",
   "execution_count": null,
   "metadata": {},
   "outputs": [],
   "source": [
    "# MicroBooNE\n",
    "f_mpv(0.3), f_mpv(f_thickness(smearing(2.33), 0.3))"
   ]
  },
  {
   "cell_type": "code",
   "execution_count": null,
   "metadata": {},
   "outputs": [],
   "source": [
    "# ICARUS\n",
    "f_mpv(0.3), f_mpv(f_thickness(smearing(0.96), 0.3))"
   ]
  },
  {
   "cell_type": "code",
   "execution_count": null,
   "metadata": {},
   "outputs": [],
   "source": [
    "# SBND\n",
    "f_mpv(0.3), f_mpv(f_thickness(smearing(1.28), 0.3))"
   ]
  },
  {
   "cell_type": "code",
   "execution_count": null,
   "metadata": {},
   "outputs": [],
   "source": [
    "# DUNE-FD\n",
    "f_mpv(0.47), f_mpv(f_thickness(smearing(2.2), 0.47))"
   ]
  },
  {
   "cell_type": "code",
   "execution_count": null,
   "metadata": {},
   "outputs": [],
   "source": [
    "# Plot thickness dependance\n",
    "sigmas = np.linspace(0, 2, 21)\n",
    "thicks = [f_thickness(s, 1) for s in sigmas]\n",
    "\n",
    "plt.plot(sigmas, thicks, label=\"Step Function(a)\\n $\\\\circledast$ Gaussian($\\\\sigma$)\")\n",
    "plt.plot(sigmas, np.sqrt(2*np.pi*np.e)*sigmas, linestyle=\":\", color=\"black\", label=\"Large $\\\\sigma$ Limit\")\n",
    "# plt.gca().set_xticklabels([\"%.1fa\" % l for l in plt.xticks()[0]])\n",
    "plt.xlabel(\"Gaussian Width ($\\\\sigma$) / Wire Pitch ($a$)\")\n",
    "plt.ylabel(\"Thickness ($\\\\mathscr{t}$) / Wire Pitch ($a$)\")\n",
    "\n",
    "plt.legend()\n",
    "plt.tight_layout()\n",
    "\n",
    "if dosave: plt.savefig(savedir + \"step_gaussian_thickness.png\")"
   ]
  },
  {
   "cell_type": "code",
   "execution_count": null,
   "metadata": {},
   "outputs": [],
   "source": [
    "Nmc = 1000\n",
    "Nsample = 1000\n",
    "Nmciter = 1000\n",
    "\n",
    "dx = 0.01\n",
    "kappa = f_kappa(dx)\n",
    "xs = np.linspace(-100, 100, int(2e5))\n",
    "pdf = [ROOT.TMath.VavilovI(x, kappa, beta**2) for x in xs]"
   ]
  },
  {
   "cell_type": "code",
   "execution_count": null,
   "metadata": {},
   "outputs": [],
   "source": []
  },
  {
   "cell_type": "code",
   "execution_count": null,
   "metadata": {},
   "outputs": [],
   "source": [
    "ROOT.gInterpreter.Declare(\"\"\"\n",
    "    double vavilov(double kappa, double beta2) {\n",
    "        return ROOT::Math::Vavilov(kappa, beta2);\n",
    "    }\n",
    "\"\"\")"
   ]
  },
  {
   "cell_type": "code",
   "execution_count": null,
   "metadata": {},
   "outputs": [],
   "source": [
    "kappa"
   ]
  },
  {
   "cell_type": "code",
   "execution_count": null,
   "metadata": {},
   "outputs": [],
   "source": [
    "# smearings = np.linspace(0, 1., 51)\n",
    "smearings = np.linspace(0, 0.15, 16)\n",
    "\n",
    "mpvs = []\n",
    "mpv_errs = []\n",
    "\n",
    "def get_esum(i):\n",
    "    dE = Es[np.searchsorted(pdE, np.random.random(Nsample*Nmc))]\n",
    "    xs = np.linspace(-pitch*(Nsample/2), pitch*(Nsample/2), Nsample+1)\n",
    "    xcenter = (xs[1:] + xs[:-1]) / 2.\n",
    "\n",
    "    thisEsum = np.sum(dE.reshape(Nmc, Nsample)*smeared_dep(xcenter, wirep, smearing), axis=-1)\n",
    "\n",
    "    return thisEsum\n",
    "\n",
    "for smearing in smearings:\n",
    "    plt.figure()\n",
    "    \n",
    "    Esums = []\n",
    "    with Pool(12) as p:\n",
    "        for esum in tqdm(p.imap_unordered(get_esum, range(Nmciter), 5), total=Nmciter):\n",
    "            Esums.append(esum)\n",
    "        \n",
    "    Esum = np.concatenate(Esums)\n",
    "\n",
    "    bins = np.linspace(1., 5.0, 121)\n",
    "    N, _, _ = plt.hist(Esum/wirep, bins=bins)\n",
    "\n",
    "    bin_centers = (bins[:-1] + bins[1:]) / 2.\n",
    "\n",
    "    p0 = [1.7, 0.1, 0.001, np.max(N)*40]\n",
    "    bounds = ([1.5, 0.005, 0.0001, np.max(N)*40/100], \n",
    "              [2., 1., 1., np.max(N)*40*100])\n",
    "    \n",
    "    p0 = [2.15, 0.1, np.max(N)*40]\n",
    "    bounds = ([1.5, 0.005, np.max(N)*40/100], \n",
    "          [2.5, 5, np.max(N)*40*100])\n",
    "\n",
    "\n",
    "    maxbin = np.argmax(N)\n",
    "    when_fit = np.abs(np.array((range(len(bin_centers)))) - maxbin) < 50\n",
    "\n",
    "    popt, perr = curve_fit(landau_f, bin_centers[when_fit], N[when_fit],\n",
    "                          p0=p0, maxfev=100_000, sigma=np.maximum(np.sqrt(N), 1)[when_fit], bounds=bounds)\n",
    "\n",
    "    print(popt)\n",
    "    plt.plot(bin_centers, landau_f(bin_centers, *popt))\n",
    "    m, m_err = get_mpv(popt, perr)\n",
    "    \n",
    "    plt.xlabel(\"Energy Loss [MeV/cm]\")\n",
    "    plt.ylabel(\"Entries\")\n",
    "    plt.text(0.35, 0.5, \"M.P.V. =\\n   %.3f +/- %.3f MeV/cm\" % (m, m_err), fontsize=16, transform=plt.gca().transAxes)\n",
    "    \n",
    "    mpvs.append(m)\n",
    "    mpv_errs.append(m_err)\n",
    "    plt.xlim([1, 4])\n",
    "    plt.title(\"Smearing: %.2fcm\" % smearing)\n",
    "    plt.tight_layout()\n",
    "    \n",
    "    dEdx = Esum/wirep\n",
    "\n",
    "    if dosave: plt.savefig((savedir + \"eloss_dist_smearing%.2f_E%.0f\" % (smearing, muonE)).replace(\".\", \"_\") + \".png\")\n"
   ]
  }
 ],
 "metadata": {
  "kernelspec": {
   "display_name": "landau_work_env",
   "language": "python",
   "name": "landau_work_env"
  },
  "language_info": {
   "codemirror_mode": {
    "name": "ipython",
    "version": 3
   },
   "file_extension": ".py",
   "mimetype": "text/x-python",
   "name": "python",
   "nbconvert_exporter": "python",
   "pygments_lexer": "ipython3",
   "version": "3.8.10"
  }
 },
 "nbformat": 4,
 "nbformat_minor": 4
}

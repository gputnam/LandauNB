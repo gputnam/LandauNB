{
 "cells": [
  {
   "cell_type": "code",
   "execution_count": null,
   "metadata": {},
   "outputs": [],
   "source": [
    "import numpy as np\n",
    "import matplotlib.pyplot as plt\n",
    "from matplotlib import gridspec\n",
    "import ROOT\n",
    "from scipy.special import erf\n",
    "from scipy.integrate import quad\n",
    "from scipy import signal\n",
    "from scipy.optimize import curve_fit\n",
    "import platform\n",
    "from multiprocess import Pool, Manager, Array\n",
    "from tqdm.notebook import tqdm\n",
    "import gc\n",
    "import sys\n",
    "print(platform.python_version())"
   ]
  },
  {
   "cell_type": "code",
   "execution_count": null,
   "metadata": {},
   "outputs": [],
   "source": [
    "dosave=False\n",
    "plt.rcParams.update({'font.size': 14})"
   ]
  },
  {
   "cell_type": "code",
   "execution_count": null,
   "metadata": {},
   "outputs": [],
   "source": [
    "# Change Me!\n",
    "\n",
    "# energy scale [MeV]\n",
    "muonE = 1_000 "
   ]
  },
  {
   "cell_type": "code",
   "execution_count": null,
   "metadata": {},
   "outputs": [],
   "source": [
    "# constants -- units MeV, cm, s\n",
    "# MeV * cm\n",
    "# hbarc = 1.973269804 * 1e-11\n",
    "# cm / s\n",
    "# c = 2.998 * 1e10\n",
    "\n",
    "Mmuon = 105.6\n",
    "Melec = 0.5110\n",
    "Relec = 2.817940 * 1e-13\n",
    "\n",
    "# motion -- beta\n",
    "beta = np.sqrt(1 - (Mmuon * Mmuon) / (muonE * muonE))\n",
    "# motion -- gamma\n",
    "gamma = muonE / Mmuon\n",
    "# motion -- (gamma * beta)^2\n",
    "gammaB2 = gamma*gamma*beta*beta\n",
    "\n",
    "# electron ionization energy [MeV]\n",
    "I0 = 188.0 * 1e-6\n",
    "\n",
    "# maximum energy transfer [Mev]\n",
    "# maxE = 2 * Melec * gammaB2\n",
    "maxE = 2 * Melec * gammaB2 / \\\n",
    "    ( 1 + 2 * gamma * Melec / Mmuon + (Melec/Mmuon)**2)\n",
    "\n",
    "# get the density of argon \n",
    "# density -- g / mL\n",
    "LAr_density_gmL = 1.396\n",
    "# molar mass -- g / mol\n",
    "Ar_molar_mass = 39.9623\n",
    "# avogadro number\n",
    "mole = 6.0221409*1e23\n",
    "# charge number / atomic mass (Z / A)\n",
    "# 99.6% of LAr is Ar40\n",
    "Ar_ZA = 18. / Ar_molar_mass\n",
    "\n",
    "# electron number density (N / cm^3)\n",
    "density = Ar_ZA * mole * LAr_density_gmL\n",
    "\n",
    "# wirep (cm)\n",
    "wirep = 0.3\n",
    "\n",
    "# MeV cm^2 / mol\n",
    "K = 4*np.pi*mole*Relec**2*Melec # 0.307075\n",
    "\n",
    "# outputdir = \"/home/grayputnam/Work/Summer2020/July13BetheBlochBarkas/\"\n",
    "zeta = (K/2.)*Ar_ZA*(1./beta**2) * LAr_density_gmL / maxE\n",
    "\n",
    "def f_kappa(thickness):\n",
    "    return zeta * thickness\n",
    "\n",
    "mean_dEdx = LAr_density_gmL * K * Ar_ZA * (1 / (beta * beta)) * (\\\n",
    "        (1./2)*np.log( maxE*2 * gammaB2*Melec / (I0**2)) \\\n",
    "        - beta * beta)\n",
    "\n",
    "def f_mpv(thickness):\n",
    "    kappa = f_kappa(thickness)*maxE\n",
    "    j=0.200\n",
    "    return (kappa/thickness)*\\\n",
    "    (np.log(2 * Melec * gammaB2 / I0) + np.log(kappa/I0) + j - beta*beta)\n",
    "\n",
    "def smeared_dep(x0, w, sigma):\n",
    "    if sigma < 1e-4:\n",
    "        return 1*((x0 > -w/2) & (x0 <= w/2))\n",
    "    return (1./2)*(erf((w/2+x0)/(np.sqrt(2)*sigma)) +\\\n",
    "                   erf((w/2-x0)/(np.sqrt(2)*sigma)))\n",
    "\n",
    "def f_thickness(sigma, a=wirep):\n",
    "    return a*np.exp(quad(lambda x: -smeared_dep(x, a, sigma) * np.log(smeared_dep(x, a, sigma))/a, \n",
    "                       -(a/2) - 5*sigma, (a/2) + 5*sigma)[0])\n",
    "\n",
    "Dtransverse = 5.85e-3 # cm^2/ms\n",
    "def smearing(driftT):\n",
    "    return np.sqrt(2*Dtransverse*driftT)"
   ]
  },
  {
   "cell_type": "code",
   "execution_count": null,
   "metadata": {},
   "outputs": [],
   "source": [
    "# ArgoNeuT\n",
    "f_mpv(0.4), f_mpv(f_thickness(smearing(0.295), 0.4))"
   ]
  },
  {
   "cell_type": "code",
   "execution_count": null,
   "metadata": {},
   "outputs": [],
   "source": [
    "# MicroBooNE\n",
    "f_mpv(0.3), f_mpv(f_thickness(smearing(2.33), 0.3))"
   ]
  },
  {
   "cell_type": "code",
   "execution_count": null,
   "metadata": {},
   "outputs": [],
   "source": [
    "# ICARUS\n",
    "f_mpv(0.3), f_mpv(f_thickness(smearing(0.96), 0.3))"
   ]
  },
  {
   "cell_type": "code",
   "execution_count": null,
   "metadata": {},
   "outputs": [],
   "source": [
    "# SBND\n",
    "f_mpv(0.3), f_mpv(f_thickness(smearing(1.28), 0.3))"
   ]
  },
  {
   "cell_type": "code",
   "execution_count": null,
   "metadata": {},
   "outputs": [],
   "source": [
    "# DUNE-FD\n",
    "f_mpv(0.47), f_mpv(f_thickness(smearing(2.2), 0.47))"
   ]
  },
  {
   "cell_type": "code",
   "execution_count": null,
   "metadata": {},
   "outputs": [],
   "source": [
    "# Plot thickness dependance\n",
    "sigmas = np.linspace(0, 2, 21)\n",
    "thicks = [f_thickness(s, 1) for s in sigmas]\n",
    "\n",
    "plt.plot(sigmas, thicks, label=\"Step Function(a)\\n $\\\\circledast$ Gaussian($\\\\sigma$)\")\n",
    "plt.plot(sigmas, np.sqrt(2*np.pi*np.e)*sigmas, linestyle=\":\", color=\"black\", label=\"Large $\\\\sigma$ Limit\")\n",
    "# plt.gca().set_xticklabels([\"%.1fa\" % l for l in plt.xticks()[0]])\n",
    "plt.xlabel(\"Gaussian Width ($\\\\sigma$) / Wire Pitch ($a$)\")\n",
    "plt.ylabel(\"Thickness ($\\\\mathscr{t}$) / Wire Pitch ($a$)\")\n",
    "\n",
    "plt.legend()\n",
    "plt.tight_layout()\n",
    "\n",
    "if dosave: plt.savefig(savedir + \"step_gaussian_thickness.png\")"
   ]
  },
  {
   "cell_type": "code",
   "execution_count": null,
   "metadata": {},
   "outputs": [],
   "source": [
    "def xsec(e):\n",
    "    # front constant of xsec\n",
    "    const = (2 * np.pi  * Relec * Relec * Melec) / (beta * beta)\n",
    "    A = 1\n",
    "    C = -beta * beta / maxE\n",
    "    ret = const * (A / (e * e) + C / e)\n",
    "    ret[e > maxE] = 0\n",
    "    return ret\n",
    "\n",
    "def xsec_integral(e): \n",
    "    if e > maxE:\n",
    "        return xsec_integral(maxE, sign, correction)\n",
    "    # front constant of xsec\n",
    "    const = (2 * np.pi  * Relec * Relec * Melec) / (beta * beta)\n",
    "    A = 1\n",
    "    C = -beta * beta / maxE\n",
    "    ret = const * (A * (1./I0 - 1./e) + \\\n",
    "            C * np.log(e/I0))\n",
    "    return ret\n",
    "total_xsec = xsec_integral(maxE)"
   ]
  },
  {
   "cell_type": "code",
   "execution_count": null,
   "metadata": {},
   "outputs": [],
   "source": [
    "def selfconvolve(a):\n",
    "    a_fft = np.fft.rfft(a)\n",
    "    a_fft_2 = a_fft * a_fft\n",
    "    del a_fft\n",
    "    return np.fft.irfft(a_fft_2)\n",
    "\n",
    "def doconvolve(a, b):\n",
    "    a_fft = np.fft.rfft(a)\n",
    "    b_fft = np.fft.rfft(b)\n",
    "    ab_fft = a_fft*b_fft\n",
    "    del a_fft\n",
    "    del b_fft\n",
    "    return np.fft.irfft(ab_fft)"
   ]
  },
  {
   "cell_type": "code",
   "execution_count": null,
   "metadata": {},
   "outputs": [],
   "source": [
    "n_sample = 50_000_000\n",
    "n_sample = 100_000_000\n",
    "\n",
    "pitch = 1e-2\n",
    "\n",
    "# this_maxE = np.minimum(maxE/3, 10)\n",
    "this_maxE = 10\n",
    "this_maxE = 20\n",
    "\n",
    "energies = np.linspace(0, this_maxE, n_sample, endpoint=False)\n",
    "\n",
    "dx0 = pitch\n",
    "i = 0\n",
    "while dx0 > 1e-8:\n",
    "    i += 1\n",
    "    dx0 = dx0 / 2\n",
    "    \n",
    "dE = this_maxE / n_sample\n",
    "\n",
    "f0 = np.zeros((n_sample,))\n",
    "f0[energies >= I0] = dx0 * xsec(energies[energies >= I0]) * density \n",
    "f0[0] += (1 - density * total_xsec * dx0) / dE"
   ]
  },
  {
   "cell_type": "code",
   "execution_count": null,
   "metadata": {},
   "outputs": [],
   "source": [
    "dx = dx0\n",
    "f = f0\n",
    "i_conv = 0\n",
    "fs = []\n",
    "pitches = []\n",
    "while dx < pitch:\n",
    "    # if dx >= 0.005:\n",
    "    #     fs.append(f)\n",
    "    #     pitches.append(dx)\n",
    "        \n",
    "    # determine how many samples for the next run\n",
    "    # this_maxE = n_sample * dE\n",
    "    # n_sample = max(n_sample, int(maxE * dx / dE))\n",
    "    # print(n_sample)\n",
    "    f = selfconvolve(f) * dE\n",
    "    dx = dx * 2\n",
    "    f = f / np.sum(f*dE)\n",
    "    i_conv += 1\n",
    "    print(i_conv, dx)\n",
    "    \n",
    "    gc.collect()\n",
    "    \n",
    "# fs.append(f)\n",
    "# pitches.append(dx)"
   ]
  },
  {
   "cell_type": "code",
   "execution_count": null,
   "metadata": {},
   "outputs": [],
   "source": [
    "mean_dEdx = LAr_density_gmL * K * Ar_ZA * (1 / (beta * beta)) * (\\\n",
    "        (1./2)*np.log( maxE*2 * gammaB2*Melec / (I0**2)) \\\n",
    "        - beta * beta)\n",
    "\n",
    "delta_dE = LAr_density_gmL * K * Ar_ZA  * (1. / (beta * beta))\\\n",
    "    * (np.log(2*Melec * gammaB2 / I0) / 2 - beta*beta/2)"
   ]
  },
  {
   "cell_type": "code",
   "execution_count": null,
   "metadata": {},
   "outputs": [],
   "source": [
    "downsample_plt = 20"
   ]
  },
  {
   "cell_type": "code",
   "execution_count": null,
   "metadata": {},
   "outputs": [],
   "source": [
    "plt.plot((energies / dx + delta_dE)[::downsample_plt], f[::downsample_plt])\n",
    "plt.xlim(0,5.)\n",
    "plt.xlabel(\"dE/dx [MeV/cm]\")\n",
    "plt.ylabel(\"Relative Probability\")\n",
    "plt.axvline(f_mpv(pitch), color=\"r\")\n",
    "plt.text(f_mpv(pitch), 0.5,'M.P.V.', fontsize=14, rotation=90, color=\"r\")\n",
    "plt.axvline(mean_dEdx, color=\"r\", linestyle=\":\")\n",
    "plt.text(mean_dEdx, 1., 'Mean', fontsize=14, rotation=90, color=\"r\")\n",
    "\n",
    "plt.title(\"Muon Energy Loss Landau: E=%.0fMeV dx=%.0fcm\" % (muonE, pitch))\n",
    "plt.tight_layout()\n",
    "\n",
    "if dosave: plt.savefig(savedir + \"muon_eloss_p%.0f.png\" % pitch)"
   ]
  },
  {
   "cell_type": "code",
   "execution_count": null,
   "metadata": {},
   "outputs": [],
   "source": [
    "downsample = 1\n"
   ]
  },
  {
   "cell_type": "code",
   "execution_count": null,
   "metadata": {},
   "outputs": [],
   "source": [
    "# fdx = f[::downsample]\n",
    "fdx = np.mean(f.reshape(-1, downsample), axis=1)\n",
    "\n",
    "dEw = dE*downsample\n",
    "\n",
    "fdx = fdx / np.sum(fdx*dEw)\n",
    "Nsample = 1000\n",
    "xs = np.linspace(-pitch*(Nsample/2), pitch*(Nsample/2), Nsample+1)\n",
    "xcenter = (xs[1:] + xs[:-1]) / 2."
   ]
  },
  {
   "cell_type": "code",
   "execution_count": null,
   "metadata": {},
   "outputs": [],
   "source": [
    "def weighted_f(xs, wirep, smearing):\n",
    "    fw = np.zeros(len(fdx))\n",
    "    fw[0] = 1. / dEw\n",
    "    ws = smeared_dep(xs, wirep, smearing)\n",
    "    for w in tqdm(ws[ws >= 1. / (n_sample / downsample)], total=len(ws[ws >= 1. / (n_sample / downsample)])):\n",
    "        f_x = np.zeros(len(fdx))\n",
    "        if w < 1. / (n_sample / downsample):\n",
    "            continue\n",
    "        else:\n",
    "            nskip = int(1. / w)\n",
    "            toset = np.unique(np.floor(np.arange((n_sample // downsample))/w).astype(int)) // nskip\n",
    "            toset = toset[toset < ((n_sample // downsample) // nskip)]\n",
    "            nset = len(toset)\n",
    "            f_x[:nset] = np.sum(fdx[:len(fdx)-(len(fdx) % nskip)].reshape(-1, nskip), axis=1)[toset]\n",
    "            f_x = f_x / np.sum(f_x*dEw)\n",
    "\n",
    "            fw = doconvolve(fw, f_x)[:len(fdx)] * dEw\n",
    "            fw = fw / np.sum(fw*dEw)\n",
    "    return fw"
   ]
  },
  {
   "cell_type": "code",
   "execution_count": null,
   "metadata": {},
   "outputs": [],
   "source": [
    "wirep_chk = 1.\n",
    "f_chk = weighted_f(xcenter, wirep_chk, 0)"
   ]
  },
  {
   "cell_type": "code",
   "execution_count": null,
   "metadata": {},
   "outputs": [],
   "source": [
    "def ROOTVavilov(Es, length):\n",
    "    pdf = ROOT.Math.VavilovAccurate(f_kappa(length), beta**2)\n",
    "    xs = (Es - mean_dEdx*length) / (f_kappa(length)*maxE) +\\\n",
    "        -np.log(f_kappa(length)) + np.euler_gamma - 1 - beta**2 \n",
    "    return np.array([pdf.Pdf(x) for x in xs])"
   ]
  },
  {
   "cell_type": "code",
   "execution_count": null,
   "metadata": {},
   "outputs": [],
   "source": [
    "Renergies = (energies + delta_dE*wirep_chk)[::downsample*downsample_plt]\n",
    "Renergies_all = Renergies\n",
    "Renergies = Renergies[Renergies < 8]\n",
    "Rpdfs = ROOTVavilov(Renergies, wirep_chk)\n",
    "norm = (np.sum(f_chk[::downsample_plt][Renergies_all < 8])) / (np.sum(Rpdfs))\n",
    "Rpdfs = Rpdfs * norm"
   ]
  },
  {
   "cell_type": "code",
   "execution_count": null,
   "metadata": {},
   "outputs": [],
   "source": [
    "fig = plt.figure()\n",
    "\n",
    "gs = gridspec.GridSpec(2, 1, height_ratios=[2, 1])\n",
    "ax1 = plt.subplot(gs[0])\n",
    "ax2 = plt.subplot(gs[1], sharex = ax1)\n",
    "\n",
    "scale = 1. / np.max(f_chk[::downsample_plt][Renergies_all < 8])\n",
    "\n",
    "ax1.plot(Renergies/wirep_chk, f_chk[::downsample_plt][Renergies_all < 8]*scale, label=\"Paper Distribution\")\n",
    "ax1.plot(Renergies/wirep_chk, Rpdfs*scale, color=\"black\", linestyle=\":\", label=\"ROOT VavilovAccurate\")\n",
    "ax1.set_xlim([1, 5])\n",
    "# ax2.set_ylim([0.9875, 1.0125])\n",
    "ax2.set_ylim([0.99775, 1.00225])\n",
    "ax1.legend()\n",
    "\n",
    "ax2.plot(Renergies/wirep_chk, Rpdfs / f_chk[::downsample_plt][Renergies_all < 8], color=\"black\")\n",
    "\n",
    "ax2.set_xlabel(\"dE/dx [MeV/cm]\")\n",
    "ax1.set_ylabel(\"Arb. Probability\")\n",
    "\n",
    "ax1.set_title(\"Muon Energy Loss: E=%.0fMeV dx=%.2fcm\" % (muonE, wirep_chk))\n",
    "ax1.get_shared_x_axes().join(ax1, ax2)\n",
    "fig.subplots_adjust(hspace=.0)\n",
    "\n",
    "ax2.axhline(1, color=\"red\", linestyle=\"--\")\n",
    "ax2.set_ylabel(\"ROOT/Paper\")\n",
    "\n",
    "yticks = ax2.yaxis.get_major_ticks()\n",
    "yticks[-1].label1.set_visible(False)\n",
    "plt.setp(ax1.get_xticklabels(), visible=False)\n",
    "\n",
    "ax1.grid(True)\n",
    "ax2.grid(True)\n",
    "ax1.axvline(f_mpv(wirep_chk), color=\"r\")\n",
    "ax1.text(f_mpv(wirep_chk)+0.025, 0.3,'M.P.V.', fontsize=14, rotation=90, color=\"r\")\n",
    "ax2.axvline(f_mpv(wirep_chk), color=\"r\")\n",
    "\n",
    "if dosave: plt.savefig(savedir + \"muon_eloss_ROOTcomp_E%.0fMeV.png\" % muonE)"
   ]
  },
  {
   "cell_type": "code",
   "execution_count": null,
   "metadata": {},
   "outputs": [],
   "source": [
    "print(f_mpv(wirep_chk), (Renergies / wirep_chk)[np.argmax(f_chk[::downsample_plt])], (Renergies / wirep_chk)[np.argmax(Rpdfs)])"
   ]
  },
  {
   "cell_type": "code",
   "execution_count": null,
   "metadata": {},
   "outputs": [],
   "source": []
  },
  {
   "cell_type": "code",
   "execution_count": null,
   "metadata": {},
   "outputs": [],
   "source": []
  },
  {
   "cell_type": "code",
   "execution_count": null,
   "metadata": {},
   "outputs": [],
   "source": []
  },
  {
   "cell_type": "code",
   "execution_count": null,
   "metadata": {},
   "outputs": [],
   "source": []
  },
  {
   "cell_type": "code",
   "execution_count": null,
   "metadata": {},
   "outputs": [],
   "source": []
  },
  {
   "cell_type": "code",
   "execution_count": null,
   "metadata": {},
   "outputs": [],
   "source": []
  },
  {
   "cell_type": "code",
   "execution_count": null,
   "metadata": {},
   "outputs": [],
   "source": [
    "smearings = np.linspace(0, 0.06, 3)\n",
    "wirep = 0.3\n",
    "\n",
    "# smearings = [0.03]\n",
    "fws = [weighted_f(xcenter, wirep, s) for s in smearings]"
   ]
  },
  {
   "cell_type": "code",
   "execution_count": null,
   "metadata": {},
   "outputs": [],
   "source": [
    "dEdxs = (energies/wirep + delta_dE)[::downsample]"
   ]
  },
  {
   "cell_type": "code",
   "execution_count": null,
   "metadata": {},
   "outputs": [],
   "source": [
    "max_dEdxs = [dEdxs[np.argmax(fw)] for fw in fws]"
   ]
  },
  {
   "cell_type": "code",
   "execution_count": null,
   "metadata": {},
   "outputs": [],
   "source": [
    "max_dEdxs #+ 0.004"
   ]
  },
  {
   "cell_type": "code",
   "execution_count": null,
   "metadata": {},
   "outputs": [],
   "source": [
    "[f_mpv(f_thickness(s, wirep)) for s in smearings]"
   ]
  },
  {
   "cell_type": "code",
   "execution_count": null,
   "metadata": {},
   "outputs": [],
   "source": [
    "plt.plot(smearings, max_dEdxs)\n",
    "plt.plot(smearings, [f_mpv(f_thickness(s, wirep)) for s in smearings])"
   ]
  },
  {
   "cell_type": "code",
   "execution_count": null,
   "metadata": {},
   "outputs": [],
   "source": [
    "plt.plot(dEdxs, fws[0])\n",
    "print(smearings[0], dEdxs[np.argmax(fws[0])])\n",
    "\n",
    "ind = 0\n",
    "plt.plot(dEdxs, fws[ind])\n",
    "print(smearings[ind], dEdxs[np.argmax(fws[ind])])\n",
    "\n",
    "plt.xlim([0, 5])"
   ]
  },
  {
   "cell_type": "code",
   "execution_count": null,
   "metadata": {},
   "outputs": [],
   "source": []
  },
  {
   "cell_type": "code",
   "execution_count": null,
   "metadata": {},
   "outputs": [],
   "source": []
  },
  {
   "cell_type": "code",
   "execution_count": null,
   "metadata": {},
   "outputs": [],
   "source": []
  },
  {
   "cell_type": "code",
   "execution_count": null,
   "metadata": {},
   "outputs": [],
   "source": []
  },
  {
   "cell_type": "code",
   "execution_count": null,
   "metadata": {},
   "outputs": [],
   "source": []
  },
  {
   "cell_type": "code",
   "execution_count": null,
   "metadata": {},
   "outputs": [],
   "source": []
  },
  {
   "cell_type": "code",
   "execution_count": null,
   "metadata": {},
   "outputs": [],
   "source": []
  },
  {
   "cell_type": "code",
   "execution_count": null,
   "metadata": {},
   "outputs": [],
   "source": []
  },
  {
   "cell_type": "code",
   "execution_count": null,
   "metadata": {},
   "outputs": [],
   "source": []
  },
  {
   "cell_type": "code",
   "execution_count": null,
   "metadata": {},
   "outputs": [],
   "source": []
  }
 ],
 "metadata": {
  "kernelspec": {
   "display_name": "landau_work_env",
   "language": "python",
   "name": "landau_work_env"
  },
  "language_info": {
   "codemirror_mode": {
    "name": "ipython",
    "version": 3
   },
   "file_extension": ".py",
   "mimetype": "text/x-python",
   "name": "python",
   "nbconvert_exporter": "python",
   "pygments_lexer": "ipython3",
   "version": "3.8.10"
  }
 },
 "nbformat": 4,
 "nbformat_minor": 4
}
